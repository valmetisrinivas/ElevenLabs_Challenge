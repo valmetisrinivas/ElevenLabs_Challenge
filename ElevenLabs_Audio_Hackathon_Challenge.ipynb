{
  "nbformat": 4,
  "nbformat_minor": 0,
  "metadata": {
    "colab": {
      "provenance": [],
      "authorship_tag": "ABX9TyNUmrLfmZ/FPZWOAApWnQVL",
      "include_colab_link": true
    },
    "kernelspec": {
      "name": "python3",
      "display_name": "Python 3"
    },
    "language_info": {
      "name": "python"
    }
  },
  "cells": [
    {
      "cell_type": "markdown",
      "metadata": {
        "id": "view-in-github",
        "colab_type": "text"
      },
      "source": [
        "<a href=\"https://colab.research.google.com/github/valmetisrinivas/ElevenLabs_Challenge/blob/master/ElevenLabs_Audio_Hackathon_Challenge.ipynb\" target=\"_parent\"><img src=\"https://colab.research.google.com/assets/colab-badge.svg\" alt=\"Open In Colab\"/></a>"
      ]
    },
    {
      "cell_type": "code",
      "execution_count": null,
      "metadata": {
        "id": "J8vx0151ay4c"
      },
      "outputs": [],
      "source": [
        "!pip install elevenlabs gradio ai71\n",
        "# ! openai-whisper"
      ]
    },
    {
      "cell_type": "code",
      "source": [
        "from elevenlabs import VoiceSettings\n",
        "from elevenlabs.client import ElevenLabs\n",
        "from transformers import M2M100ForConditionalGeneration, M2M100Tokenizer\n",
        "# import whisper\n",
        "from ai71  import AI71\n",
        "from datetime import datetime\n",
        "import os\n",
        "import time\n",
        "from pydub import AudioSegment\n",
        "from IPython.display import Audio, display, Video, HTML\n",
        "from base64 import b64encode\n",
        "import gradio as gr\n",
        "import concurrent.futures"
      ],
      "metadata": {
        "id": "sVvpdpx4bG10"
      },
      "execution_count": null,
      "outputs": []
    },
    {
      "cell_type": "code",
      "source": [
        "AI71_API_KEY = os.getenv('AI71_API_KEY')\n",
        "XI_API_KEY = os.getenv('ELEVEN_LABS_API_KEY')"
      ],
      "metadata": {
        "id": "lOetiYJHbyot"
      },
      "execution_count": null,
      "outputs": []
    },
    {
      "cell_type": "code",
      "source": [
        "client = ElevenLabs(api_key=XI_API_KEY)\n",
        "\n",
        "translator = M2M100ForConditionalGeneration.from_pretrained(\"facebook/m2m100_1.2B\")\n",
        "tokenizer = M2M100Tokenizer.from_pretrained(\"facebook/m2m100_1.2B\")\n",
        "\n",
        "transcriber = gr.load(\"models/openai/whisper-large-v3-turbo\")"
      ],
      "metadata": {
        "id": "Dg1T7ehGbUif"
      },
      "execution_count": null,
      "outputs": []
    },
    {
      "cell_type": "code",
      "source": [
        "language_codes = {\"English\":\"en\", \"Hindi\":\"hi\", \"Portuguese\":\"pt\", \"Chinese\":\"zh\", \"Spanish\":\"es\",\n",
        "\"French\":\"fr\", \"German\":\"de\", \"Japanese\":\"ja\", \"Arabic\":\"ar\", \"Russian\":\"ru\",\n",
        "\"Korean\":\"ko\", \"Indonesian\":\"id\", \"Italian\":\"it\", \"Dutch\":\"nl\",\"Turkish\":\"tr\",\n",
        "\"Polish\":\"pl\", \"Swedish\":\"sv\", \"Filipino\":\"fil\", \"Malay\":\"ms\", \"Romanian\":\"ro\",\n",
        "\"Ukrainian\":\"uk\", \"Greek\":\"el\", \"Czech\":\"cs\", \"Danish\":\"da\", \"Finnish\":\"fi\",\n",
        "\"Bulgarian\":\"bg\", \"Croatian\":\"hr\", \"Slovak\":\"sk\"}\n",
        "\n",
        "meeting_texts = []\n",
        "n_participants = 4\n",
        "language_choices = [\"English\", \"Polish\", \"Hindi\", \"Arabic\"]"
      ],
      "metadata": {
        "id": "l5josF78cYDz"
      },
      "execution_count": null,
      "outputs": []
    },
    {
      "cell_type": "code",
      "source": [
        "def clear_all():\n",
        "    global meeting_texts\n",
        "    meeting_texts = []\n",
        "    return [None] * (n_participants * 3 + 1)"
      ],
      "metadata": {
        "id": "qdDeO-KQccKn"
      },
      "execution_count": null,
      "outputs": []
    },
    {
      "cell_type": "code",
      "source": [
        "def wait_for_dubbing_completion(dubbing_id: str) -> bool:\n",
        "    \"\"\"\n",
        "    Waits for the dubbing process to complete by periodically checking the status.\n",
        "    Args:\n",
        "        dubbing_id (str): The dubbing project id.\n",
        "    Returns:\n",
        "        bool: True if the dubbing is successful, False otherwise.\n",
        "    \"\"\"\n",
        "    MAX_ATTEMPTS = 120\n",
        "    CHECK_INTERVAL = 10  # In seconds\n",
        "\n",
        "    for _ in range(MAX_ATTEMPTS):\n",
        "        metadata = client.dubbing.get_dubbing_project_metadata(dubbing_id)\n",
        "        if metadata.status == \"dubbed\":\n",
        "            return True\n",
        "        elif metadata.status == \"dubbing\":\n",
        "            print(\n",
        "                \"Dubbing in progress... Will check status again in\",\n",
        "                CHECK_INTERVAL,\n",
        "                \"seconds.\",\n",
        "            )\n",
        "            time.sleep(CHECK_INTERVAL)\n",
        "        else:\n",
        "            print(\"Dubbing failed:\", metadata.error_message)\n",
        "            return False\n",
        "\n",
        "    print(\"Dubbing timed out\")\n",
        "    return False\n",
        "\n",
        "def download_dubbed_file(dubbing_id: str, language_code: str) -> str:\n",
        "    \"\"\"\n",
        "    Downloads the dubbed file for a given dubbing ID and language code.\n",
        "    Args:\n",
        "        dubbing_id: The ID of the dubbing project.\n",
        "        language_code: The language code for the dubbing.\n",
        "    Returns:\n",
        "        The file path to the downloaded dubbed file.\n",
        "    \"\"\"\n",
        "    dir_path = f\"data/{dubbing_id}\"\n",
        "    os.makedirs(dir_path, exist_ok=True)\n",
        "\n",
        "    file_path = f\"{dir_path}/{language_code}.mp4\"\n",
        "    with open(file_path, \"wb\") as file:\n",
        "        for chunk in client.dubbing.get_dubbed_file(dubbing_id, language_code):\n",
        "            file.write(chunk)\n",
        "\n",
        "    return file_path\n",
        "\n",
        "def create_dub_from_file(\n",
        "    input_file_path: str,\n",
        "    file_format: str,\n",
        "    source_language: str,\n",
        "    target_language: str,\n",
        "):\n",
        "# ) -> Optional[str]:\n",
        "    \"\"\"\n",
        "    Dubs an audio or video file from one language to another and saves the output.\n",
        "    Args:\n",
        "        input_file_path (str): The file path of the audio or video to dub.\n",
        "        file_format (str): The file format of the input file.\n",
        "        source_language (str): The language of the input file.\n",
        "        target_language (str): The target language to dub into.\n",
        "    Returns:\n",
        "        Optional[str]: The file path of the dubbed file or None if operation failed.\n",
        "    \"\"\"\n",
        "    if not os.path.isfile(input_file_path):\n",
        "        raise FileNotFoundError(f\"The input file does not exist: {input_file_path}\")\n",
        "\n",
        "    with open(input_file_path, \"rb\") as audio_file:\n",
        "        response = client.dubbing.dub_a_video_or_an_audio_file(\n",
        "            file=(os.path.basename(input_file_path), audio_file, file_format), # Optional file\n",
        "            target_lang=target_language, # The target language to dub the content into. Can be none if dubbing studio editor is enabled and running manual mode\n",
        "            # mode=\"automatic\", # automatic or manual.\n",
        "            source_lang=source_language, # Source language\n",
        "            num_speakers=1, # Number of speakers to use for the dubbing.\n",
        "            watermark=True,  # Whether to apply watermark to the output video.\n",
        "        )\n",
        "\n",
        "    # rest of the code\n",
        "    dubbing_id = response.dubbing_id\n",
        "    if wait_for_dubbing_completion(dubbing_id):\n",
        "        output_file_path = download_dubbed_file(dubbing_id, target_language)\n",
        "        return output_file_path\n",
        "    else:\n",
        "        return None"
      ],
      "metadata": {
        "id": "wK8t0Tn6ckB8"
      },
      "execution_count": null,
      "outputs": []
    },
    {
      "cell_type": "code",
      "source": [
        "def summarize(meeting_texts=meeting_texts):\n",
        "    mt = ', '.join([f\"{k}: {v}\" for i in meeting_texts for k, v in i.items()])\n",
        "    meeting_date_time = str(datetime.now().strftime(\"%Y-%m-%d %H:%M:%S\"))\n",
        "    meeting_texts = meeting_date_time + '\\n' + mt\n",
        "\n",
        "    minutes_of_meeting = \"\"\n",
        "    for chunk in AI71(AI71_API_KEY.strip()).chat.completions.create(\n",
        "        model=\"tiiuae/falcon-180b-chat\",\n",
        "        messages=[\n",
        "            {\"role\": \"system\", \"content\": f\"\"\"You are an expereiced Secretary who can summarize meeting discussions into minutes of meeting.\n",
        "            Summarize the meetings discussions provided as Speakerwise conversation.\n",
        "            Strictly consider only the context given in user content {meeting_texts} for summarization.\n",
        "            Ensure to mention the title as 'Minutes of Meeting held on {meeting_date_time} and present the summary with better viewing format and title in bold letters\"\"\"},\n",
        "            {\"role\": \"user\", \"content\": meeting_texts},\n",
        "        ],\n",
        "        stream=True,\n",
        "    ):\n",
        "        if chunk.choices[0].delta.content:\n",
        "            summary = chunk.choices[0].delta.content\n",
        "            minutes_of_meeting += summary\n",
        "    minutes_of_meeting = minutes_of_meeting.replace('User:', '').strip()\n",
        "    print(\"\\n\")\n",
        "    print(\"minutes_of_meeting:\", minutes_of_meeting)\n",
        "    return minutes_of_meeting"
      ],
      "metadata": {
        "id": "pG6d2j8Eco-r"
      },
      "execution_count": null,
      "outputs": []
    },
    {
      "cell_type": "code",
      "source": [
        "def speech_to_text(video):\n",
        "    print(video, type(video))\n",
        "    print('Started transcribing')\n",
        "    audio = AudioSegment.from_file(video)\n",
        "    audio.export('temp.wav', format=\"wav\")\n",
        "\n",
        "    # transcript = transcriber.transcribe(video).text\n",
        "    # transcript = transcriber.transcribe(video).text\n",
        "    transcript = transcriber(\"temp.wav\").split(\"'\")[1].strip()\n",
        "\n",
        "    print('transcript:', transcript)\n",
        "    return transcript"
      ],
      "metadata": {
        "id": "TEkyGJzhctp_"
      },
      "execution_count": null,
      "outputs": []
    },
    {
      "cell_type": "code",
      "source": [
        "def translate_text(text, source_language,target_language):\n",
        "    tokenizer.src_lang = source_language\n",
        "    encoded_ln = tokenizer(text, return_tensors=\"pt\")\n",
        "    generated_tokens = translator.generate(**encoded_ln, forced_bos_token_id=tokenizer.get_lang_id(target_language))\n",
        "    translated_text = tokenizer.batch_decode(generated_tokens, skip_special_tokens=True)[0]\n",
        "    print('translated_text:', translated_text)\n",
        "    return translated_text\n",
        "\n",
        "def synthesize_speech(video, source_language,target_language):\n",
        "    print('Started dubbing')\n",
        "    dub_video = create_dub_from_file(input_file_path = video,\n",
        "      file_format = 'audio/mpeg',\n",
        "      source_language = source_language,\n",
        "      target_language = target_language)\n",
        "    return dub_video\n",
        "\n",
        "def process_speaker(video, speaker_idx, n_participants, *language_list):\n",
        "    transcript = speech_to_text(video)\n",
        "\n",
        "    # Create outputs for each participant\n",
        "    outputs = []\n",
        "    global meeting_texts\n",
        "    def process_translation_dubbing(i):\n",
        "        if i != speaker_idx:\n",
        "            participant_language = language_codes[language_list[i]]\n",
        "            speaker_language = language_codes[language_list[speaker_idx]]\n",
        "            translated_text = translate_text(transcript, speaker_language, participant_language)\n",
        "            dubbed_video = synthesize_speech(video, speaker_language, participant_language)\n",
        "            return translated_text, dubbed_video\n",
        "        return None, None\n",
        "\n",
        "    with concurrent.futures.ThreadPoolExecutor() as executor:\n",
        "        futures = [executor.submit(process_translation_dubbing, i) for i in range(n_participants)]\n",
        "        results = [f.result() for f in futures]\n",
        "\n",
        "    for i, (translated_text, dubbed_video) in enumerate(results):\n",
        "        if i == speaker_idx:\n",
        "            outputs.insert(0, transcript)\n",
        "        else:\n",
        "            outputs.append(translated_text)\n",
        "            outputs.append(dubbed_video)\n",
        "    if speaker_idx == 0:\n",
        "        meeting_texts.append({f\"Speaker_{speaker_idx+1}\":outputs[0]})\n",
        "    else:\n",
        "        meeting_texts.append({f\"Speaker_{speaker_idx+1}\":outputs[1]})\n",
        "\n",
        "    print(len(outputs))\n",
        "    print(outputs)\n",
        "    print('meeting_texts: ',meeting_texts)\n",
        "    return outputs"
      ],
      "metadata": {
        "id": "4Sqh43eHc7Oc"
      },
      "execution_count": null,
      "outputs": []
    },
    {
      "cell_type": "code",
      "source": [
        "def create_participant_row(i, language_choices):\n",
        "    \"\"\"Creates the UI for a single participant.\"\"\"\n",
        "    with gr.Row():\n",
        "        video_input = gr.Video(label=f\"Participant {i+1} Video\", interactive=True)\n",
        "        language_dropdown = gr.Dropdown(choices=language_choices, label=f\"Participant {i+1} Language\", value=language_choices[i])\n",
        "        transcript_output = gr.Textbox(label=f\"Participant {i+1} Transcript\")\n",
        "        translated_text = gr.Textbox(label=\"Speaker's Translated Text\")\n",
        "        dubbed_video = gr.Video(label=\"Speaker's Dubbed Video\")\n",
        "        return video_input, language_dropdown, transcript_output, translated_text, dubbed_video"
      ],
      "metadata": {
        "id": "_rrInTBtc9Uu"
      },
      "execution_count": null,
      "outputs": []
    },
    {
      "cell_type": "code",
      "source": [
        "def create_gradio_interface(n_participants, language_choices):\n",
        "    with gr.Blocks() as demo:\n",
        "        gr.Markdown(\"# LinguaPolis: Bridging Languages, Uniting Teams Globally - Multilingual Conference Call Simulation\")\n",
        "\n",
        "        video_inputs = []\n",
        "        language_dropdowns = []\n",
        "        transcript_outputs = []\n",
        "        translated_texts = []\n",
        "        dubbed_videos = []\n",
        "\n",
        "        clear_button = gr.Button(\"Clear All\")\n",
        "\n",
        "        # Create a row for each participant\n",
        "        for i in range(n_participants):\n",
        "            video_input, language_dropdown, transcript_output, translated_text, dubbed_video = create_participant_row(i, language_choices)\n",
        "            video_inputs.append(video_input)\n",
        "            language_dropdowns.append(language_dropdown)\n",
        "            transcript_outputs.append(transcript_output)\n",
        "            translated_texts.append(translated_text)\n",
        "            dubbed_videos.append(dubbed_video)\n",
        "\n",
        "        # Create dynamic processing buttons for each participant\n",
        "        for i in range(n_participants):\n",
        "            gr.Button(f\"Submit Speaker {i+1}'s Speech\").click(\n",
        "                process_speaker,\n",
        "                [video_inputs[i], gr.State(i), gr.State(n_participants)] + [language_dropdowns[j] for j in range(n_participants)],\n",
        "                [transcript_outputs[i]] + [k for j in zip(translated_texts[:i]+translated_texts[i+1:], dubbed_videos[:i]+dubbed_videos[i+1:]) for k in j]\n",
        "           )\n",
        "        minutes = gr.Textbox(label=\"Minutes of Meeting\")\n",
        "        gr.Button(f\"Generate Minutes of meeting\").click(summarize, None, minutes)\n",
        "\n",
        "        # Clear button to reset inputs and outputs\n",
        "        clear_button.click(clear_all, None, [*transcript_outputs, *translated_texts, *dubbed_videos, minutes])\n",
        "\n",
        "    # Launch with .queue() to keep it running properly in Jupyter\n",
        "    demo.queue().launch(debug=True, share=True)\n",
        "\n",
        "\n",
        "create_gradio_interface(n_participants, language_choices)"
      ],
      "metadata": {
        "id": "pYA8ucXBb97U"
      },
      "execution_count": null,
      "outputs": []
    },
    {
      "cell_type": "code",
      "source": [],
      "metadata": {
        "id": "d71P4x5Gb15_"
      },
      "execution_count": null,
      "outputs": []
    },
    {
      "cell_type": "code",
      "source": [],
      "metadata": {
        "id": "nyeAx-T6bbPM"
      },
      "execution_count": null,
      "outputs": []
    }
  ]
}